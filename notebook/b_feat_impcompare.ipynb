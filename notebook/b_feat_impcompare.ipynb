{
 "cells": [
  {
   "cell_type": "code",
   "execution_count": 1,
   "metadata": {},
   "outputs": [],
   "source": [
    "import utils\n",
    "import pandas as pd\n",
    "import numpy as np\n",
    "import matplotlib.pyplot as plt\n",
    "import seaborn as sns\n"
   ]
  },
  {
   "cell_type": "code",
   "execution_count": 2,
   "metadata": {},
   "outputs": [],
   "source": [
    "X_train = utils.df_train.filter(regex='X_')\n",
    "X_test = utils.df_test.filter(regex='X_')\n",
    "y_train = utils.df_train.y_1\n",
    "y_test = utils.df_test.y_1"
   ]
  },
  {
   "cell_type": "code",
   "execution_count": 3,
   "metadata": {},
   "outputs": [],
   "source": [
    "n_features = 180\n"
   ]
  },
  {
   "cell_type": "code",
   "execution_count": 4,
   "metadata": {},
   "outputs": [],
   "source": [
    "ic_feature_selector=  utils.IcFeatureSelector(X_train,y_train,n_features)"
   ]
  },
  {
   "cell_type": "code",
   "execution_count": 5,
   "metadata": {},
   "outputs": [],
   "source": [
    "ic_res = ic_feature_selector.make()"
   ]
  },
  {
   "cell_type": "code",
   "execution_count": 6,
   "metadata": {},
   "outputs": [
    {
     "name": "stderr",
     "output_type": "stream",
     "text": [
      "/home/ray/anaconda3/envs/ag/lib/python3.9/site-packages/sklearn/linear_model/_coordinate_descent.py:631: ConvergenceWarning: Objective did not converge. You might want to increase the number of iterations, check the scale of the features or consider increasing regularisation. Duality gap: 5.910e+01, tolerance: 2.272e-01\n",
      "  model = cd_fast.enet_coordinate_descent(\n",
      "/home/ray/anaconda3/envs/ag/lib/python3.9/site-packages/sklearn/linear_model/_coordinate_descent.py:631: ConvergenceWarning: Objective did not converge. You might want to increase the number of iterations, check the scale of the features or consider increasing regularisation. Duality gap: 9.553e+01, tolerance: 2.836e-01\n",
      "  model = cd_fast.enet_coordinate_descent(\n"
     ]
    }
   ],
   "source": [
    "lasso_feature_selector = utils.LassoFeatureSelector(\n",
    "    X_train, y_train, n_features=n_features\n",
    ")\n",
    "lasso_result = lasso_feature_selector.make()"
   ]
  },
  {
   "cell_type": "code",
   "execution_count": 7,
   "metadata": {},
   "outputs": [
    {
     "name": "stderr",
     "output_type": "stream",
     "text": [
      "/home/ray/anaconda3/envs/ag/lib/python3.9/site-packages/lightgbm/engine.py:181: UserWarning: 'early_stopping_rounds' argument is deprecated and will be removed in a future release of LightGBM. Pass 'early_stopping()' callback via 'callbacks' argument instead.\n",
      "  _log_warning(\"'early_stopping_rounds' argument is deprecated and will be removed in a future release of LightGBM. \"\n"
     ]
    },
    {
     "name": "stdout",
     "output_type": "stream",
     "text": [
      "[1]\tvalid_0's rmse: 0.0283883\n",
      "Training until validation scores don't improve for 100 rounds\n",
      "[2]\tvalid_0's rmse: 0.0283812\n",
      "[3]\tvalid_0's rmse: 0.0283753\n",
      "[4]\tvalid_0's rmse: 0.02837\n",
      "[5]\tvalid_0's rmse: 0.0283654\n",
      "[6]\tvalid_0's rmse: 0.028362\n",
      "[7]\tvalid_0's rmse: 0.0283583\n",
      "[8]\tvalid_0's rmse: 0.0283551\n",
      "[9]\tvalid_0's rmse: 0.028352\n",
      "[10]\tvalid_0's rmse: 0.0283493\n",
      "[11]\tvalid_0's rmse: 0.0283468\n",
      "[12]\tvalid_0's rmse: 0.0283453\n",
      "[13]\tvalid_0's rmse: 0.0283438\n",
      "[14]\tvalid_0's rmse: 0.0283419\n",
      "[15]\tvalid_0's rmse: 0.0283405\n",
      "[16]\tvalid_0's rmse: 0.0283394\n",
      "[17]\tvalid_0's rmse: 0.0283388\n",
      "[18]\tvalid_0's rmse: 0.0283377\n",
      "[19]\tvalid_0's rmse: 0.0283365\n",
      "[20]\tvalid_0's rmse: 0.0283365\n",
      "[21]\tvalid_0's rmse: 0.0283354\n",
      "[22]\tvalid_0's rmse: 0.0283343\n",
      "[23]\tvalid_0's rmse: 0.0283339\n",
      "[24]\tvalid_0's rmse: 0.0283339\n",
      "[25]\tvalid_0's rmse: 0.0283333\n",
      "[26]\tvalid_0's rmse: 0.0283327\n",
      "[27]\tvalid_0's rmse: 0.0283326\n",
      "[28]\tvalid_0's rmse: 0.0283319\n",
      "[29]\tvalid_0's rmse: 0.0283319\n",
      "[30]\tvalid_0's rmse: 0.0283317\n",
      "[31]\tvalid_0's rmse: 0.0283315\n",
      "[32]\tvalid_0's rmse: 0.0283313\n",
      "[33]\tvalid_0's rmse: 0.0283309\n",
      "[34]\tvalid_0's rmse: 0.0283304\n",
      "[35]\tvalid_0's rmse: 0.02833\n",
      "[36]\tvalid_0's rmse: 0.02833\n",
      "[37]\tvalid_0's rmse: 0.02833\n",
      "[38]\tvalid_0's rmse: 0.0283294\n",
      "[39]\tvalid_0's rmse: 0.0283292\n",
      "[40]\tvalid_0's rmse: 0.0283286\n",
      "[41]\tvalid_0's rmse: 0.0283284\n",
      "[42]\tvalid_0's rmse: 0.0283277\n",
      "[43]\tvalid_0's rmse: 0.0283276\n",
      "[44]\tvalid_0's rmse: 0.0283276\n",
      "[45]\tvalid_0's rmse: 0.0283275\n",
      "[46]\tvalid_0's rmse: 0.0283274\n",
      "[47]\tvalid_0's rmse: 0.0283272\n",
      "[48]\tvalid_0's rmse: 0.0283272\n",
      "[49]\tvalid_0's rmse: 0.0283269\n",
      "[50]\tvalid_0's rmse: 0.0283267\n",
      "[51]\tvalid_0's rmse: 0.0283267\n",
      "[52]\tvalid_0's rmse: 0.0283263\n",
      "[53]\tvalid_0's rmse: 0.0283263\n",
      "[54]\tvalid_0's rmse: 0.028326\n",
      "[55]\tvalid_0's rmse: 0.028326\n",
      "[56]\tvalid_0's rmse: 0.0283256\n",
      "[57]\tvalid_0's rmse: 0.0283256\n",
      "[58]\tvalid_0's rmse: 0.0283257\n",
      "[59]\tvalid_0's rmse: 0.0283262\n",
      "[60]\tvalid_0's rmse: 0.028326\n",
      "[61]\tvalid_0's rmse: 0.0283259\n",
      "[62]\tvalid_0's rmse: 0.028326\n",
      "[63]\tvalid_0's rmse: 0.0283257\n",
      "[64]\tvalid_0's rmse: 0.0283256\n",
      "[65]\tvalid_0's rmse: 0.0283263\n",
      "[66]\tvalid_0's rmse: 0.028326\n",
      "[67]\tvalid_0's rmse: 0.028326\n",
      "[68]\tvalid_0's rmse: 0.0283266\n",
      "[69]\tvalid_0's rmse: 0.0283267\n",
      "[70]\tvalid_0's rmse: 0.0283266\n",
      "[71]\tvalid_0's rmse: 0.0283264\n",
      "[72]\tvalid_0's rmse: 0.0283266\n",
      "[73]\tvalid_0's rmse: 0.0283261\n",
      "[74]\tvalid_0's rmse: 0.0283257\n",
      "[75]\tvalid_0's rmse: 0.0283257\n",
      "[76]\tvalid_0's rmse: 0.0283255\n",
      "[77]\tvalid_0's rmse: 0.0283251\n",
      "[78]\tvalid_0's rmse: 0.0283248\n",
      "[79]\tvalid_0's rmse: 0.0283248\n",
      "[80]\tvalid_0's rmse: 0.0283246\n",
      "[81]\tvalid_0's rmse: 0.0283245\n",
      "[82]\tvalid_0's rmse: 0.0283249\n",
      "[83]\tvalid_0's rmse: 0.0283248\n",
      "[84]\tvalid_0's rmse: 0.0283249\n",
      "[85]\tvalid_0's rmse: 0.0283249\n",
      "[86]\tvalid_0's rmse: 0.0283251\n",
      "[87]\tvalid_0's rmse: 0.028325\n",
      "[88]\tvalid_0's rmse: 0.028325\n",
      "[89]\tvalid_0's rmse: 0.0283251\n",
      "[90]\tvalid_0's rmse: 0.0283254\n",
      "[91]\tvalid_0's rmse: 0.0283253\n",
      "[92]\tvalid_0's rmse: 0.0283254\n",
      "[93]\tvalid_0's rmse: 0.0283252\n",
      "[94]\tvalid_0's rmse: 0.0283251\n",
      "[95]\tvalid_0's rmse: 0.0283249\n",
      "[96]\tvalid_0's rmse: 0.0283249\n",
      "[97]\tvalid_0's rmse: 0.028325\n",
      "[98]\tvalid_0's rmse: 0.028325\n",
      "[99]\tvalid_0's rmse: 0.0283249\n",
      "[100]\tvalid_0's rmse: 0.0283251\n",
      "Did not meet early stopping. Best iteration is:\n",
      "[81]\tvalid_0's rmse: 0.0283245\n"
     ]
    }
   ],
   "source": [
    "\n",
    "lgb_feature_selector = utils.LgbFeatureSelector(\n",
    "    X_train, y_train, X_test, y_test, n_features=n_features\n",
    ")\n",
    "lgb_result = lgb_feature_selector.make()"
   ]
  },
  {
   "cell_type": "code",
   "execution_count": 8,
   "metadata": {},
   "outputs": [],
   "source": [
    "ic_res = ic_res.reset_index(drop=True)\n",
    "lgb_result = lgb_result.reset_index(drop=True)\n",
    "lasso_result = lasso_result.reset_index(drop=True)"
   ]
  },
  {
   "cell_type": "code",
   "execution_count": 9,
   "metadata": {},
   "outputs": [],
   "source": [
    "res = pd.concat([ic_res, lgb_result, lasso_result], axis=1)"
   ]
  },
  {
   "cell_type": "code",
   "execution_count": 10,
   "metadata": {},
   "outputs": [],
   "source": [
    "res.to_csv('feature_selector.csv')"
   ]
  },
  {
   "cell_type": "code",
   "execution_count": 14,
   "metadata": {},
   "outputs": [
    {
     "data": {
      "text/html": [
       "<div>\n",
       "<style scoped>\n",
       "    .dataframe tbody tr th:only-of-type {\n",
       "        vertical-align: middle;\n",
       "    }\n",
       "\n",
       "    .dataframe tbody tr th {\n",
       "        vertical-align: top;\n",
       "    }\n",
       "\n",
       "    .dataframe thead th {\n",
       "        text-align: right;\n",
       "    }\n",
       "</style>\n",
       "<table border=\"1\" class=\"dataframe\">\n",
       "  <thead>\n",
       "    <tr style=\"text-align: right;\">\n",
       "      <th></th>\n",
       "      <th>feature</th>\n",
       "      <th>IC_importance</th>\n",
       "      <th>feature</th>\n",
       "      <th>Lgb_importance</th>\n",
       "      <th>feature</th>\n",
       "      <th>Lasso_importance</th>\n",
       "    </tr>\n",
       "  </thead>\n",
       "  <tbody>\n",
       "    <tr>\n",
       "      <th>0</th>\n",
       "      <td>X_16</td>\n",
       "      <td>0.056291</td>\n",
       "      <td>X_181</td>\n",
       "      <td>106</td>\n",
       "      <td>X_92</td>\n",
       "      <td>0.005118</td>\n",
       "    </tr>\n",
       "    <tr>\n",
       "      <th>1</th>\n",
       "      <td>X_256</td>\n",
       "      <td>0.051550</td>\n",
       "      <td>X_217</td>\n",
       "      <td>70</td>\n",
       "      <td>X_175</td>\n",
       "      <td>0.001660</td>\n",
       "    </tr>\n",
       "    <tr>\n",
       "      <th>2</th>\n",
       "      <td>X_216</td>\n",
       "      <td>0.051544</td>\n",
       "      <td>X_65</td>\n",
       "      <td>63</td>\n",
       "      <td>X_49</td>\n",
       "      <td>0.001454</td>\n",
       "    </tr>\n",
       "    <tr>\n",
       "      <th>3</th>\n",
       "      <td>X_159</td>\n",
       "      <td>0.043585</td>\n",
       "      <td>X_92</td>\n",
       "      <td>57</td>\n",
       "      <td>X_168</td>\n",
       "      <td>0.001309</td>\n",
       "    </tr>\n",
       "    <tr>\n",
       "      <th>4</th>\n",
       "      <td>X_94</td>\n",
       "      <td>0.042990</td>\n",
       "      <td>X_84</td>\n",
       "      <td>53</td>\n",
       "      <td>X_109</td>\n",
       "      <td>0.001240</td>\n",
       "    </tr>\n",
       "    <tr>\n",
       "      <th>...</th>\n",
       "      <td>...</td>\n",
       "      <td>...</td>\n",
       "      <td>...</td>\n",
       "      <td>...</td>\n",
       "      <td>...</td>\n",
       "      <td>...</td>\n",
       "    </tr>\n",
       "    <tr>\n",
       "      <th>175</th>\n",
       "      <td>X_195</td>\n",
       "      <td>-0.032842</td>\n",
       "      <td>X_102</td>\n",
       "      <td>2</td>\n",
       "      <td>X_74</td>\n",
       "      <td>0.000104</td>\n",
       "    </tr>\n",
       "    <tr>\n",
       "      <th>176</th>\n",
       "      <td>X_140</td>\n",
       "      <td>-0.032875</td>\n",
       "      <td>X_120</td>\n",
       "      <td>2</td>\n",
       "      <td>X_209</td>\n",
       "      <td>0.000100</td>\n",
       "    </tr>\n",
       "    <tr>\n",
       "      <th>177</th>\n",
       "      <td>X_35</td>\n",
       "      <td>-0.033033</td>\n",
       "      <td>X_103</td>\n",
       "      <td>2</td>\n",
       "      <td>X_183</td>\n",
       "      <td>0.000100</td>\n",
       "    </tr>\n",
       "    <tr>\n",
       "      <th>178</th>\n",
       "      <td>X_65</td>\n",
       "      <td>-0.033090</td>\n",
       "      <td>X_85</td>\n",
       "      <td>2</td>\n",
       "      <td>X_126</td>\n",
       "      <td>0.000099</td>\n",
       "    </tr>\n",
       "    <tr>\n",
       "      <th>179</th>\n",
       "      <td>X_98</td>\n",
       "      <td>-0.033213</td>\n",
       "      <td>X_153</td>\n",
       "      <td>2</td>\n",
       "      <td>X_70</td>\n",
       "      <td>0.000098</td>\n",
       "    </tr>\n",
       "  </tbody>\n",
       "</table>\n",
       "<p>180 rows × 6 columns</p>\n",
       "</div>"
      ],
      "text/plain": [
       "    feature  IC_importance feature  Lgb_importance feature  Lasso_importance\n",
       "0      X_16       0.056291   X_181             106    X_92          0.005118\n",
       "1     X_256       0.051550   X_217              70   X_175          0.001660\n",
       "2     X_216       0.051544    X_65              63    X_49          0.001454\n",
       "3     X_159       0.043585    X_92              57   X_168          0.001309\n",
       "4      X_94       0.042990    X_84              53   X_109          0.001240\n",
       "..      ...            ...     ...             ...     ...               ...\n",
       "175   X_195      -0.032842   X_102               2    X_74          0.000104\n",
       "176   X_140      -0.032875   X_120               2   X_209          0.000100\n",
       "177    X_35      -0.033033   X_103               2   X_183          0.000100\n",
       "178    X_65      -0.033090    X_85               2   X_126          0.000099\n",
       "179    X_98      -0.033213   X_153               2    X_70          0.000098\n",
       "\n",
       "[180 rows x 6 columns]"
      ]
     },
     "execution_count": 14,
     "metadata": {},
     "output_type": "execute_result"
    }
   ],
   "source": [
    "res"
   ]
  },
  {
   "cell_type": "code",
   "execution_count": 20,
   "metadata": {},
   "outputs": [
    {
     "data": {
      "text/plain": [
       "107"
      ]
     },
     "execution_count": 20,
     "metadata": {},
     "output_type": "execute_result"
    }
   ],
   "source": [
    "len(set(res.feature.iloc[:,0]) & set(res.feature.iloc[:,1])&set(res.feature.iloc[:,-1]))"
   ]
  },
  {
   "cell_type": "code",
   "execution_count": null,
   "metadata": {},
   "outputs": [],
   "source": []
  }
 ],
 "metadata": {
  "kernelspec": {
   "display_name": "ag",
   "language": "python",
   "name": "python3"
  },
  "language_info": {
   "codemirror_mode": {
    "name": "ipython",
    "version": 3
   },
   "file_extension": ".py",
   "mimetype": "text/x-python",
   "name": "python",
   "nbconvert_exporter": "python",
   "pygments_lexer": "ipython3",
   "version": "3.9.16"
  },
  "orig_nbformat": 4
 },
 "nbformat": 4,
 "nbformat_minor": 2
}
